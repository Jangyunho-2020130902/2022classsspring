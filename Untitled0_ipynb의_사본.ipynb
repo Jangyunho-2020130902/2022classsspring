{
  "nbformat": 4,
  "nbformat_minor": 0,
  "metadata": {
    "colab": {
      "name": "Untitled0.ipynb의 사본",
      "provenance": [],
      "authorship_tag": "ABX9TyOzvAFcFWqOk9pAZaHUF0mM",
      "include_colab_link": true
    },
    "kernelspec": {
      "name": "python3",
      "display_name": "Python 3"
    },
    "language_info": {
      "name": "python"
    }
  },
  "cells": [
    {
      "cell_type": "markdown",
      "metadata": {
        "id": "view-in-github",
        "colab_type": "text"
      },
      "source": [
        "<a href=\"https://colab.research.google.com/github/Jangyunho-2020130902/2022classsspring/blob/main/Untitled0_ipynb%EC%9D%98_%EC%82%AC%EB%B3%B8.ipynb\" target=\"_parent\"><img src=\"https://colab.research.google.com/assets/colab-badge.svg\" alt=\"Open In Colab\"/></a>"
      ]
    },
    {
      "cell_type": "code",
      "execution_count": null,
      "metadata": {
        "id": "lAA8jaL3r3Lb",
        "outputId": "9321a5f4-00b1-454d-f8aa-d0af218cc343",
        "colab": {
          "base_uri": "https://localhost:8080/"
        }
      },
      "outputs": [
        {
          "output_type": "stream",
          "name": "stdout",
          "text": [
            "1\n",
            "<class 'int'>\n"
          ]
        }
      ],
      "source": [
        "a=1 \n",
        "print(a)\n",
        "print(type(a))"
      ]
    },
    {
      "cell_type": "markdown",
      "source": [
        "변수는 number 과 string이 있다. a=1은 a의 라는 변수에 1을 넣은 것이다. 이때 a의 타입은 int라 한다. print는 a값을 출력하라는 명령어이다. a의 타입을 출력하려면 \n",
        "print(type(a))라 한다. "
      ],
      "metadata": {
        "id": "vf7_iZeKJlp0"
      }
    },
    {
      "cell_type": "code",
      "source": [
        "a=1.2; print(type(a))"
      ],
      "metadata": {
        "id": "u7EiNpwUsLMV",
        "outputId": "b75566f0-8b01-46ad-b7d2-f31de3c965de",
        "colab": {
          "base_uri": "https://localhost:8080/"
        }
      },
      "execution_count": null,
      "outputs": [
        {
          "output_type": "stream",
          "name": "stdout",
          "text": [
            "<class 'float'>\n"
          ]
        }
      ]
    },
    {
      "cell_type": "markdown",
      "source": [
        "소수 1.2타입은 float라 한다. "
      ],
      "metadata": {
        "id": "sqQY-Jl2KkKw"
      }
    },
    {
      "cell_type": "code",
      "source": [
        "a='hello'; print(type(a))\n",
        "print(a[1]) \n",
        "print(a[:])\n",
        "print(a[1:4])"
      ],
      "metadata": {
        "id": "3Kjy9l8wKj6H",
        "outputId": "b2cd8c2d-aa1a-47e8-c2d9-abdafe8ecb83",
        "colab": {
          "base_uri": "https://localhost:8080/"
        }
      },
      "execution_count": null,
      "outputs": [
        {
          "output_type": "stream",
          "name": "stdout",
          "text": [
            "<class 'str'>\n",
            "e\n",
            "hello\n",
            "ell\n"
          ]
        }
      ]
    },
    {
      "cell_type": "markdown",
      "source": [
        "이렇게 일련의 문자로 나열된 것을 string이다. 숫자 배열로 이루어질 수 있다. \n",
        "print(a[1])은 문자열 중에서 1번째로 시작하는 단어이다. 0부터 시작하기에 e가 출력되었다. print(a[:])는 a를 전부 나열하는 것이다. 따라서 hello가 도출되었다\n",
        "print(a[1:4])는 a 문자열에서 1번부터 3번째까지 도출하라는 의미이다. 4는 포함하지 않는다. "
      ],
      "metadata": {
        "id": "OdOWXq1eLKdT"
      }
    },
    {
      "cell_type": "code",
      "source": [
        "a=[1,2,3,4]; print(type(a)) ; print(a[2])"
      ],
      "metadata": {
        "id": "Vmjsjd-lMARx",
        "outputId": "55753697-dd7b-4525-865a-be3beb2ed543",
        "colab": {
          "base_uri": "https://localhost:8080/"
        }
      },
      "execution_count": null,
      "outputs": [
        {
          "output_type": "stream",
          "name": "stdout",
          "text": [
            "<class 'list'>\n",
            "3\n"
          ]
        }
      ]
    },
    {
      "cell_type": "markdown",
      "source": [
        "여러 변수들의 나열을 list라 한다. print(a[2])는 list에서 2에 위치한 변수이다. 이 역시 0부터 시작한다. "
      ],
      "metadata": {
        "id": "I7gFX4P2Mjq5"
      }
    },
    {
      "cell_type": "code",
      "source": [
        "a=['apple',1,[2,3]]; print(type(a)); print(a[2])"
      ],
      "metadata": {
        "id": "3XqXoxiJM_AF",
        "outputId": "61b057f8-401a-45d2-c432-32db2c897b96",
        "colab": {
          "base_uri": "https://localhost:8080/"
        }
      },
      "execution_count": null,
      "outputs": [
        {
          "output_type": "stream",
          "name": "stdout",
          "text": [
            "<class 'list'>\n",
            "[2, 3]\n"
          ]
        }
      ]
    },
    {
      "cell_type": "markdown",
      "source": [
        "이렇게 list안에 string과 inst 를 같이 넣어도 작동한다. "
      ],
      "metadata": {
        "id": "eORaYXc1NbqM"
      }
    },
    {
      "cell_type": "code",
      "source": [
        "a=  {\"a\":\"영어영문학과\",\"b\":\"장윤호\"}; print(type(a)); print(a[\"b\"])"
      ],
      "metadata": {
        "id": "4muTvhT9Njr1",
        "outputId": "19178d3d-67a2-4926-b998-99e63306bdd7",
        "colab": {
          "base_uri": "https://localhost:8080/"
        }
      },
      "execution_count": null,
      "outputs": [
        {
          "output_type": "stream",
          "name": "stdout",
          "text": [
            "<class 'dict'>\n",
            "장윤호\n"
          ]
        }
      ]
    },
    {
      "cell_type": "markdown",
      "source": [
        "dic는 a의 \"a\"를 영어영문학과로 \"b\"를 장윤호로 정의한다. "
      ],
      "metadata": {
        "id": "9YQhPKh3QDSb"
      }
    },
    {
      "cell_type": "code",
      "source": [
        "def add(a,b):\n",
        "  return a+b\n",
        "\n",
        "def subtract(a,b):\n",
        "  return a-b\n",
        "\n",
        "def multiply(a,b):\n",
        "  return a*b\n",
        "\n",
        "def divide(a,b):\n",
        "  return a/b"
      ],
      "metadata": {
        "id": "Ss9gxz4KTJ8M"
      },
      "execution_count": null,
      "outputs": []
    },
    {
      "cell_type": "code",
      "source": [
        "c = add(1,2); print(c)\n",
        "c = subtract(1,2); print(c)\n",
        "c = multiply(1,2); print(c)\n",
        "c = divide(1,2); print(c)"
      ],
      "metadata": {
        "id": "ijsAy2y5TaP_",
        "outputId": "7a36a4c1-f535-4541-802f-3a0f5f122786",
        "colab": {
          "base_uri": "https://localhost:8080/"
        }
      },
      "execution_count": null,
      "outputs": [
        {
          "output_type": "stream",
          "name": "stdout",
          "text": [
            "3\n",
            "-1\n",
            "2\n",
            "0.5\n"
          ]
        }
      ]
    },
    {
      "cell_type": "markdown",
      "source": [
        "def 후에 함수 이름을 정한뒤 return 에 값을 입력하면 함수가 만들어진다. "
      ],
      "metadata": {
        "id": "bzol_yYBTbRl"
      }
    },
    {
      "cell_type": "code",
      "metadata": {
        "id": "Fu2mzgrqSLAU",
        "outputId": "503ef377-a7a1-47ba-b3ff-9813db465d80",
        "colab": {
          "base_uri": "https://localhost:8080/"
        }
      },
      "source": [
        "a = [1, 2, 3, 4]\n",
        "for i in a:\n",
        "    print(i)"
      ],
      "execution_count": null,
      "outputs": [
        {
          "output_type": "stream",
          "name": "stdout",
          "text": [
            "1\n",
            "2\n",
            "3\n",
            "4\n"
          ]
        }
      ]
    },
    {
      "cell_type": "markdown",
      "source": [
        "for은 반복문이다. "
      ],
      "metadata": {
        "id": "7v4sO7iBULa_"
      }
    },
    {
      "cell_type": "code",
      "source": [
        "for i in range(4):\n",
        "   print(i)"
      ],
      "metadata": {
        "id": "s4QNcbrjVHCT",
        "outputId": "2d98bbb8-b02c-482d-85a5-3b95a6d62f49",
        "colab": {
          "base_uri": "https://localhost:8080/"
        }
      },
      "execution_count": null,
      "outputs": [
        {
          "output_type": "stream",
          "name": "stdout",
          "text": [
            "0\n",
            "1\n",
            "2\n",
            "3\n"
          ]
        }
      ]
    },
    {
      "cell_type": "code",
      "metadata": {
        "id": "XSJxLJVCSLAW",
        "outputId": "e02c8c53-ecce-4e48-dfcf-32dfcc06a30e",
        "colab": {
          "base_uri": "https://localhost:8080/"
        }
      },
      "source": [
        "a = [1, 2, 3, 4]\n",
        "for i in range(3):\n",
        "    print(a[i])                         "
      ],
      "execution_count": null,
      "outputs": [
        {
          "output_type": "stream",
          "name": "stdout",
          "text": [
            "1\n",
            "2\n",
            "3\n"
          ]
        }
      ]
    },
    {
      "cell_type": "code",
      "metadata": {
        "id": "VTfxVRdgSLAW",
        "outputId": "31cc135b-317e-464c-d04f-2ab86f9335fc",
        "colab": {
          "base_uri": "https://localhost:8080/"
        }
      },
      "source": [
        "a = ['red', 'green', 'blue', 'purple']\n",
        "for i in a[0]:\n",
        "    print(i)"
      ],
      "execution_count": null,
      "outputs": [
        {
          "output_type": "stream",
          "name": "stdout",
          "text": [
            "r\n",
            "e\n",
            "d\n"
          ]
        }
      ]
    },
    {
      "cell_type": "code",
      "metadata": {
        "id": "Vc-7pW85SLAW",
        "outputId": "6f1971c8-571c-4427-fa49-b84021f8dcfd",
        "colab": {
          "base_uri": "https://localhost:8080/"
        }
      },
      "source": [
        "a = ['red', 'green', 'blue', 'purple']\n",
        "for i in range(len(a)):\n",
        "    print(a[i])"
      ],
      "execution_count": null,
      "outputs": [
        {
          "output_type": "stream",
          "name": "stdout",
          "text": [
            "red\n",
            "green\n",
            "blue\n",
            "purple\n"
          ]
        }
      ]
    },
    {
      "cell_type": "code",
      "metadata": {
        "id": "dD-ephD3SLAX",
        "outputId": "9230326c-4799-40f8-ebed-4cf411359437",
        "colab": {
          "base_uri": "https://localhost:8080/"
        }
      },
      "source": [
        "a = 2\n",
        "if a == 0:\n",
        "    print(a)\n",
        "else:\n",
        "    print(a+1)"
      ],
      "execution_count": null,
      "outputs": [
        {
          "output_type": "stream",
          "name": "stdout",
          "text": [
            "3\n"
          ]
        }
      ]
    },
    {
      "cell_type": "code",
      "metadata": {
        "id": "M0AZaDMvSLAY",
        "outputId": "9998d8dd-b6ef-43a4-c13a-e14aca5c9a66",
        "colab": {
          "base_uri": "https://localhost:8080/"
        }
      },
      "source": [
        "for i in range(1, 3):\n",
        "    for j in range(3, 5):\n",
        "        print(i+j)"
      ],
      "execution_count": null,
      "outputs": [
        {
          "output_type": "stream",
          "name": "stdout",
          "text": [
            "4\n",
            "5\n",
            "5\n",
            "6\n"
          ]
        }
      ]
    },
    {
      "cell_type": "code",
      "source": [
        "for i in range(1, 3):\n",
        "    for j in range(3, 5):\n",
        "        print(i*j)"
      ],
      "metadata": {
        "id": "38NXATYhcOew",
        "outputId": "6dff94b6-249c-42cc-c7c3-117c47811b72",
        "colab": {
          "base_uri": "https://localhost:8080/"
        }
      },
      "execution_count": null,
      "outputs": [
        {
          "output_type": "stream",
          "name": "stdout",
          "text": [
            "3\n",
            "4\n",
            "6\n",
            "8\n"
          ]
        }
      ]
    },
    {
      "cell_type": "code",
      "metadata": {
        "id": "ZPpZmVIHSLAY",
        "outputId": "1e4a3d6a-055c-4acf-9966-b858a03d14e2",
        "colab": {
          "base_uri": "https://localhost:8080/"
        }
      },
      "source": [
        "for i in range(1, 3):\n",
        "    for j in range(3, 5):\n",
        "        if j >=4: print(i*j)   \n",
        "        else: print(i+j)\n",
        "         \n",
        "       \n",
        "          \n",
        "          "
      ],
      "execution_count": null,
      "outputs": [
        {
          "output_type": "stream",
          "name": "stdout",
          "text": [
            "4\n",
            "4\n",
            "5\n",
            "8\n"
          ]
        }
      ]
    },
    {
      "cell_type": "code",
      "metadata": {
        "id": "JQXk5vi0SLAY",
        "outputId": "48c6c998-36fd-4aa0-83a4-78f21e4cb93e",
        "colab": {
          "base_uri": "https://localhost:8080/"
        }
      },
      "source": [
        "a = [1, 2, 3, 4]\n",
        "b = [i for i in a if i >=2]\n",
        "b"
      ],
      "execution_count": null,
      "outputs": [
        {
          "output_type": "execute_result",
          "data": {
            "text/plain": [
              "[2, 3, 4]"
            ]
          },
          "metadata": {},
          "execution_count": 55
        }
      ]
    },
    {
      "cell_type": "code",
      "metadata": {
        "id": "MDmBGZ3LSLAZ",
        "outputId": "9508bff4-3d0c-4b57-c82b-ec1f530e7272",
        "colab": {
          "base_uri": "https://localhost:8080/"
        }
      },
      "source": [
        "a = ['red', 'green', 'blue', 'purple']\n",
        "b = [i for i in a if len(i) >=4]\n",
        "b"
      ],
      "execution_count": null,
      "outputs": [
        {
          "output_type": "execute_result",
          "data": {
            "text/plain": [
              "['green', 'blue', 'purple']"
            ]
          },
          "metadata": {},
          "execution_count": 56
        }
      ]
    },
    {
      "cell_type": "markdown",
      "source": [
        "스펠링을 기준으로 4보다 크거나 같으면 프린트하라. "
      ],
      "metadata": {
        "id": "E-2tInv6eGy0"
      }
    },
    {
      "cell_type": "code",
      "source": [
        "a = ['ab','태빈','세하','근용','김시우']\n",
        "b = [i if len(i)==2 else len(i)==3 for i in a]\n",
        "b"
      ],
      "metadata": {
        "id": "p-vqcCyOeM5d",
        "outputId": "6fec5729-2429-49da-87dd-f3c82ba231c0",
        "colab": {
          "base_uri": "https://localhost:8080/"
        }
      },
      "execution_count": null,
      "outputs": [
        {
          "output_type": "execute_result",
          "data": {
            "text/plain": [
              "['ab', '태빈', '세하', '근용', True]"
            ]
          },
          "metadata": {},
          "execution_count": 101
        }
      ]
    },
    {
      "cell_type": "markdown",
      "source": [
        "교수님 찬스 "
      ],
      "metadata": {
        "id": "A76EfAewjvAQ"
      }
    },
    {
      "cell_type": "code",
      "source": [
        ""
      ],
      "metadata": {
        "id": "cOIuRJmSju0i"
      },
      "execution_count": null,
      "outputs": []
    },
    {
      "cell_type": "code",
      "source": [
        "a = ['red', 'green', 'blue', 'purple']\n",
        "b = [1, 2, 3, 4]\n",
        "c = {a[i]:b[i] for i in range(4)}\n",
        "c"
      ],
      "metadata": {
        "id": "Z6JMoDOHu48B",
        "outputId": "3f32baee-7020-4f67-abc9-bee8b5704b89",
        "colab": {
          "base_uri": "https://localhost:8080/"
        }
      },
      "execution_count": null,
      "outputs": [
        {
          "output_type": "execute_result",
          "data": {
            "text/plain": [
              "{'blue': 3, 'green': 2, 'purple': 4, 'red': 1}"
            ]
          },
          "metadata": {},
          "execution_count": 17
        }
      ]
    },
    {
      "cell_type": "code",
      "source": [
        "import numpy \n"
      ],
      "metadata": {
        "id": "q6ywYxLQaQ1R"
      },
      "execution_count": null,
      "outputs": []
    },
    {
      "cell_type": "code",
      "source": [
        "import numpy as np\n",
        "numpy.random.normal(0,1,100) \n"
      ],
      "metadata": {
        "id": "2ESyNQAXaaGx",
        "outputId": "03b40bf0-8118-4271-9197-bd2bd2e3a4fd",
        "colab": {
          "base_uri": "https://localhost:8080/"
        }
      },
      "execution_count": null,
      "outputs": [
        {
          "output_type": "execute_result",
          "data": {
            "text/plain": [
              "array([-0.41540707,  0.38657114, -0.48956694, -0.55343945,  0.34905947,\n",
              "       -1.21053146, -0.02030072, -0.23484624, -0.38563979,  1.41762908,\n",
              "       -0.11425997,  1.37092984, -1.00642577,  1.00867148, -0.06243089,\n",
              "       -1.11584716,  0.72871609, -0.25599161, -1.12591907,  1.13511857,\n",
              "       -1.93784635, -0.86330117, -0.09551706,  0.75075734, -1.18373101,\n",
              "        0.1339149 ,  0.0709911 ,  0.29091677,  1.07037517,  0.55896612,\n",
              "       -0.7008261 , -0.09753854, -0.51225841,  0.98818818, -0.39835768,\n",
              "       -0.15252717,  0.55983359,  0.4761589 ,  0.17358294, -0.49809839,\n",
              "       -0.27025871, -0.51457257,  0.95921248,  0.80592036,  1.83333245,\n",
              "        2.18894236,  0.1286245 , -0.73178097,  0.42855241, -1.70175255,\n",
              "       -0.92239136,  0.12416288,  1.17188834,  0.03827532, -0.96836084,\n",
              "        0.30760263,  0.47345213,  0.42374517,  0.68948716,  2.48254658,\n",
              "       -2.78818114,  1.09794668,  2.34308876, -0.22558529,  1.22402909,\n",
              "        0.59480197, -0.90619877, -0.54689896, -0.18713749, -0.62718748,\n",
              "        2.16089477,  0.83237521, -1.4761153 , -1.30740188,  0.02339564,\n",
              "       -1.21643292,  0.50500458,  0.26756929, -0.02137094,  0.76120788,\n",
              "        0.45303914, -0.2800366 , -0.19372535, -0.75157009, -0.37900656,\n",
              "       -1.45589936, -0.40975534, -1.02446025, -0.01638921,  1.04238434,\n",
              "       -0.4784706 ,  0.58370648,  0.34580173, -1.46026767, -0.07793081,\n",
              "       -0.749049  , -0.66787358, -1.61236258, -2.05362978,  0.81931357])"
            ]
          },
          "metadata": {},
          "execution_count": 43
        }
      ]
    },
    {
      "cell_type": "markdown",
      "metadata": {
        "id": "JcCdLoe_4bY7"
      },
      "source": [
        "### create nd arrays (≈matrices)"
      ]
    },
    {
      "cell_type": "code",
      "metadata": {
        "id": "5ap7xyofShBB"
      },
      "source": [
        "import numpy as np"
      ],
      "execution_count": 1,
      "outputs": []
    },
    {
      "cell_type": "code",
      "metadata": {
        "id": "2rqpSPZCShBC",
        "outputId": "22ec3ff9-c014-42c6-d90c-5096db522a5d",
        "colab": {
          "base_uri": "https://localhost:8080/"
        }
      },
      "source": [
        "x = np.array([1,2,3])\n",
        "print(x)\n",
        "print(type(x))\n",
        "print(x.shape)"
      ],
      "execution_count": 2,
      "outputs": [
        {
          "output_type": "stream",
          "name": "stdout",
          "text": [
            "[1 2 3]\n",
            "<class 'numpy.ndarray'>\n",
            "(3,)\n"
          ]
        }
      ]
    },
    {
      "cell_type": "code",
      "metadata": {
        "id": "EjC88C75ShBC",
        "outputId": "ff8cf159-1299-40b6-c42a-83e7c374af7d",
        "colab": {
          "base_uri": "https://localhost:8080/"
        }
      },
      "source": [
        "x = np.arange(0,10,2)\n",
        "print(x)\n",
        "print(type(x))\n",
        "print(x.shape)"
      ],
      "execution_count": 3,
      "outputs": [
        {
          "output_type": "stream",
          "name": "stdout",
          "text": [
            "[0 2 4 6 8]\n",
            "<class 'numpy.ndarray'>\n",
            "(5,)\n"
          ]
        }
      ]
    },
    {
      "cell_type": "markdown",
      "source": [
        "10에서 2간격으로 나열하라 . "
      ],
      "metadata": {
        "id": "nekKyWeFkpKl"
      }
    },
    {
      "cell_type": "code",
      "source": [
        "x = np.arange(0,10,3)\n",
        "print(x)\n",
        "print(type(x))\n",
        "print(x.shape)"
      ],
      "metadata": {
        "id": "g05gDITfkuFG",
        "outputId": "eeef2693-973a-49a4-8201-395b9f654af1",
        "colab": {
          "base_uri": "https://localhost:8080/"
        }
      },
      "execution_count": 4,
      "outputs": [
        {
          "output_type": "stream",
          "name": "stdout",
          "text": [
            "[0 3 6 9]\n",
            "<class 'numpy.ndarray'>\n",
            "(4,)\n"
          ]
        }
      ]
    },
    {
      "cell_type": "code",
      "metadata": {
        "id": "-MwkCEjTShBC",
        "colab": {
          "base_uri": "https://localhost:8080/"
        },
        "outputId": "059e4641-c595-421a-dc5f-cdc00a549829"
      },
      "source": [
        "x = np.linspace(0,10,5)\n",
        "print(x)\n",
        "print(type(x))\n",
        "print(x.shape)"
      ],
      "execution_count": 10,
      "outputs": [
        {
          "output_type": "stream",
          "name": "stdout",
          "text": [
            "[ 0.   2.5  5.   7.5 10. ]\n",
            "<class 'numpy.ndarray'>\n",
            "(5,)\n"
          ]
        }
      ]
    },
    {
      "cell_type": "markdown",
      "source": [
        "5개의 리스트를 만든다. 10을 같은 간격으로 \n"
      ],
      "metadata": {
        "id": "ojar__iUlmzG"
      }
    },
    {
      "cell_type": "code",
      "metadata": {
        "id": "tjk79SQ27fNv",
        "colab": {
          "base_uri": "https://localhost:8080/"
        },
        "outputId": "d086c90c-0698-4119-ff0e-fe6daef683a6"
      },
      "source": [
        "x = np.array([[1,2,3], [4,5,6]])\n",
        "print(x)\n",
        "print(type(x))\n",
        "print(x.shape)"
      ],
      "execution_count": 6,
      "outputs": [
        {
          "output_type": "stream",
          "name": "stdout",
          "text": [
            "[[1 2 3]\n",
            " [4 5 6]]\n",
            "<class 'numpy.ndarray'>\n",
            "(2, 3)\n"
          ]
        }
      ]
    },
    {
      "cell_type": "code",
      "metadata": {
        "id": "C1ogg6iZ7yir",
        "colab": {
          "base_uri": "https://localhost:8080/"
        },
        "outputId": "fa5d4eb7-c2ce-4991-a2c3-ab6f884df4a6"
      },
      "source": [
        "x = np.array([[[1,2,3], [4,5,6]], [[7,8,9], [10,11,12]]])\n",
        "print(x)\n",
        "print(type(x))\n",
        "print(x.shape)"
      ],
      "execution_count": 7,
      "outputs": [
        {
          "output_type": "stream",
          "name": "stdout",
          "text": [
            "[[[ 1  2  3]\n",
            "  [ 4  5  6]]\n",
            "\n",
            " [[ 7  8  9]\n",
            "  [10 11 12]]]\n",
            "<class 'numpy.ndarray'>\n",
            "(2, 2, 3)\n"
          ]
        }
      ]
    },
    {
      "cell_type": "markdown",
      "source": [
        "(두께,세로,가로)"
      ],
      "metadata": {
        "id": "b6eYXqaLnu1P"
      }
    },
    {
      "cell_type": "code",
      "metadata": {
        "id": "efgeNHtD8ZlT",
        "colab": {
          "base_uri": "https://localhost:8080/"
        },
        "outputId": "e9869ab9-b351-4277-adf5-c5c9836453ef"
      },
      "source": [
        "x = np.ones([2, 2, 3])\n",
        "print(x)\n",
        "print(type(x))\n",
        "print(x.shape)"
      ],
      "execution_count": 8,
      "outputs": [
        {
          "output_type": "stream",
          "name": "stdout",
          "text": [
            "[[[1. 1. 1.]\n",
            "  [1. 1. 1.]]\n",
            "\n",
            " [[1. 1. 1.]\n",
            "  [1. 1. 1.]]]\n",
            "<class 'numpy.ndarray'>\n",
            "(2, 2, 3)\n"
          ]
        }
      ]
    },
    {
      "cell_type": "code",
      "metadata": {
        "id": "b_F-ccY08zzl",
        "colab": {
          "base_uri": "https://localhost:8080/"
        },
        "outputId": "f2e9f630-92ee-4cc4-eb62-539faa097157"
      },
      "source": [
        "x = np.zeros([2, 2, 3])\n",
        "print(x)\n",
        "print(type(x))\n",
        "print(x.shape)\n",
        "x.reshape(3,2,2)"
      ],
      "execution_count": 9,
      "outputs": [
        {
          "output_type": "stream",
          "name": "stdout",
          "text": [
            "[[[0. 0. 0.]\n",
            "  [0. 0. 0.]]\n",
            "\n",
            " [[0. 0. 0.]\n",
            "  [0. 0. 0.]]]\n",
            "<class 'numpy.ndarray'>\n",
            "(2, 2, 3)\n"
          ]
        },
        {
          "output_type": "execute_result",
          "data": {
            "text/plain": [
              "array([[[0., 0.],\n",
              "        [0., 0.]],\n",
              "\n",
              "       [[0., 0.],\n",
              "        [0., 0.]],\n",
              "\n",
              "       [[0., 0.],\n",
              "        [0., 0.]]])"
            ]
          },
          "metadata": {},
          "execution_count": 9
        }
      ]
    },
    {
      "cell_type": "markdown",
      "metadata": {
        "id": "0hQuDJ5g9gpE"
      },
      "source": [
        "### create random numbers"
      ]
    },
    {
      "cell_type": "code",
      "source": [
        "np.random.normal(0, 1, [2,3,4])"
      ],
      "metadata": {
        "id": "pCVnElBgan70",
        "colab": {
          "base_uri": "https://localhost:8080/"
        },
        "outputId": "d0331d29-5f80-4a13-cbab-d95b992861c1"
      },
      "execution_count": 11,
      "outputs": [
        {
          "output_type": "execute_result",
          "data": {
            "text/plain": [
              "array([[[-1.14565381, -1.19473317, -0.56537353, -0.61533461],\n",
              "        [ 0.73070113, -0.72674158,  0.45991167, -1.17961434],\n",
              "        [ 0.50907413,  0.43761603,  0.53373712,  0.90306303]],\n",
              "\n",
              "       [[ 0.03372206, -0.23509943,  0.78060249, -0.92604635],\n",
              "        [ 0.4407292 ,  0.45553801,  0.78116004, -0.28347892],\n",
              "        [ 1.9094786 , -0.75322501, -0.58217856, -1.28009163]]])"
            ]
          },
          "metadata": {},
          "execution_count": 11
        }
      ]
    },
    {
      "cell_type": "code",
      "metadata": {
        "id": "QRatmkx79otL"
      },
      "source": [
        "import matplotlib.pyplot as plt"
      ],
      "execution_count": 12,
      "outputs": []
    },
    {
      "cell_type": "code",
      "metadata": {
        "id": "z1oOAB6dShBD",
        "colab": {
          "base_uri": "https://localhost:8080/",
          "height": 664
        },
        "outputId": "07cd36e0-a6a5-4b49-cff4-d1d467656626"
      },
      "source": [
        "x = np.random.normal(0, 1, 100)\n",
        "print(x)\n",
        "plt.hist(x, bins=10)"
      ],
      "execution_count": 13,
      "outputs": [
        {
          "output_type": "stream",
          "name": "stdout",
          "text": [
            "[ 0.21590029 -1.20059185 -0.0816564   1.43119647  0.6002454  -1.94150547\n",
            "  0.737998    0.8551851   0.34567692 -2.42843222 -1.67988463 -1.76951125\n",
            " -0.69901999 -1.04698052 -0.31473846 -1.92291462 -0.98130443  1.82696588\n",
            "  0.38647597 -0.49898807  0.13274583  0.96023745  1.4432041   0.15325982\n",
            "  2.64550948 -1.71599338  0.35439637 -0.23441197  0.32336592  0.21712291\n",
            "  0.63871599 -0.42888474 -0.03206413 -1.94370705  0.1745167  -0.35774791\n",
            " -0.3424989   0.93007181 -0.29658238 -0.17428533  0.25528833  0.83418884\n",
            " -0.31300047 -0.80532688 -0.17863849  0.09328909 -0.74913802 -0.93888326\n",
            " -0.28603081  0.96473553  1.37367837  0.91285881  0.84038011 -0.26794576\n",
            " -0.10419088  0.62774745  0.0898017  -0.41057194  0.42171818  0.64367806\n",
            " -0.61218956  0.49553548  0.08754616  0.53257859  0.05532057 -0.49942437\n",
            " -0.53244529 -0.67008823 -0.16200579 -0.14416    -0.41168167 -0.35974095\n",
            " -1.00304211 -0.08457625  0.53603375 -0.07409763  1.31660245  0.32346998\n",
            " -1.98192483 -0.43852368  0.57222791 -0.88386102 -1.0157426   0.04732113\n",
            "  0.89892796 -0.05867149 -0.257333   -0.31700013  1.82019213 -1.86037826\n",
            " -0.80398037 -1.48275181  0.1445596  -0.16183623  0.43508818  0.94555674\n",
            "  0.34585604  1.0400293   0.29872427  1.94422746]\n"
          ]
        },
        {
          "output_type": "execute_result",
          "data": {
            "text/plain": [
              "(array([ 5.,  5.,  6., 14., 27., 21., 14.,  4.,  3.,  1.]),\n",
              " array([-2.42843222, -1.92103805, -1.41364388, -0.90624971, -0.39885554,\n",
              "         0.10853863,  0.6159328 ,  1.12332697,  1.63072114,  2.13811531,\n",
              "         2.64550948]),\n",
              " <a list of 10 Patch objects>)"
            ]
          },
          "metadata": {},
          "execution_count": 13
        },
        {
          "output_type": "display_data",
          "data": {
            "text/plain": [
              "<Figure size 432x288 with 1 Axes>"
            ],
            "image/png": "[encoded data removed]"
          },
          "metadata": {
            "needs_background": "light"
          }
        }
      ]
    },
    {
      "cell_type": "markdown",
      "metadata": {
        "id": "G0exvwBbShBE"
      },
      "source": [
        "### generate a sine curve"
      ]
    },
    {
      "cell_type": "code",
      "metadata": {
        "id": "HgQmRXzMShBE",
        "colab": {
          "base_uri": "https://localhost:8080/",
          "height": 283
        },
        "outputId": "798256d5-7dec-4502-c617-3392a0fc945c"
      },
      "source": [
        "plt.figure()\n",
        "\n",
        "theta1 = np.linspace(0, 2*np.pi, 100)\n",
        "s1 = np.sin(theta1)\n",
        "theta2 = np.linspace(0, 2*np.pi, 100) + np.pi/2\n",
        "s2 = np.sin(theta2)\n",
        "\n",
        "plt.subplot(2, 3, 2) # (rows, columns, panel number)\n",
        "plt.plot(theta1, s1, '.')\n",
        "plt.subplot(2, 1, 2) # (rows, columns, panel number)\n",
        "plt.plot(theta2, s2, '.')"
      ],
      "execution_count": 17,
      "outputs": [
        {
          "output_type": "execute_result",
          "data": {
            "text/plain": [
              "[<matplotlib.lines.Line2D at 0x7f565223c350>]"
            ]
          },
          "metadata": {},
          "execution_count": 17
        },
        {
          "output_type": "display_data",
          "data": {
            "text/plain": [
              "<Figure size 432x288 with 2 Axes>"
            ],
            "image/png": "[encoded data removed]"
          },
          "metadata": {
            "needs_background": "light"
          }
        }
      ]
    },
    {
      "cell_type": "code",
      "metadata": {
        "id": "TuH489v9BvQ7",
        "colab": {
          "base_uri": "https://localhost:8080/"
        },
        "outputId": "15fe751c-1c12-4ea2-c19d-4b10fc382585"
      },
      "source": [
        "np.corrcoef(s1,s2)"
      ],
      "execution_count": 15,
      "outputs": [
        {
          "output_type": "execute_result",
          "data": {
            "text/plain": [
              "array([[1.00000000e+00, 2.41915449e-17],\n",
              "       [2.41915449e-17, 1.00000000e+00]])"
            ]
          },
          "metadata": {},
          "execution_count": 15
        }
      ]
    }
  ]
}