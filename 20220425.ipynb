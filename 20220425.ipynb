{
  "nbformat": 4,
  "nbformat_minor": 0,
  "metadata": {
    "colab": {
      "name": "20220425.ipynb",
      "provenance": [],
      "include_colab_link": true
    },
    "kernelspec": {
      "name": "python3",
      "display_name": "Python 3"
    },
    "language_info": {
      "name": "python"
    }
  },
  "cells": [
    {
      "cell_type": "markdown",
      "metadata": {
        "id": "view-in-github",
        "colab_type": "text"
      },
      "source": [
        "<a href=\"https://colab.research.google.com/github/Jangyunho-2020130902/2022classsspring/blob/main/20220425.ipynb\" target=\"_parent\"><img src=\"https://colab.research.google.com/assets/colab-badge.svg\" alt=\"Open In Colab\"/></a>"
      ]
    },
    {
      "cell_type": "markdown",
      "source": [
        ""
      ],
      "metadata": {
        "id": "QuW_MaFFy0cg"
      }
    },
    {
      "cell_type": "markdown",
      "source": [
        "# Auto correlation (자기상관)\n",
        ": 보통 correlation은 두 변수 간의 선형적 관계를 측정하고자 할 때 사용되지만  auto correlation은 자기 자신과 correlation을 알아보자 할 때 사용된다. 자기 자신과의 관계이기 때문에 lag된 값을 이용한다. 시계열의 시차 값(lagged values) 사이에 존재하는 선형 관계를 측정하는 것이다. auto correlation을 그릴 때에는 보통 상관도표(correlogram)이라고 알려져 있는 자기상관함수(ACF)를 나타내기 위해 그린다."
      ],
      "metadata": {
        "id": "ENy4TLbay143"
      }
    },
    {
      "cell_type": "markdown",
      "source": [
        "# Root mean square:\n",
        " 평균값, 중앙값, 최빈값 등과 같이 어떤 집단의 특징이나 경향을 나타내는 대표값의 일종이다. 평균값과 매우 유사한 성격의 값이지만 평균값, 피크값 만으으로 파형 특성의 유용한 판단 수단이 되지 못할 때 자주 사용된다. 서로 다른 파형 간의 적절한 비교의 척도로써 매우 적절하기 때문이다. 전기, 전자 분야 뿐만 아니라 크기와 극성이 함께 변하는 값을 다루는 기술분야에서는 널리 채용되어 쓰이고 있다. \n"
      ],
      "metadata": {
        "id": "w1cGHL3j3hHe"
      }
    }
  ]
}