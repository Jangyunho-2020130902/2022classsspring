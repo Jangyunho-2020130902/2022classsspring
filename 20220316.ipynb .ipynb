{
  "nbformat": 4,
  "nbformat_minor": 0,
  "metadata": {
    "colab": {
      "name": "Untitled0.ipynb",
      "provenance": [],
      "authorship_tag": "ABX9TyPlOKL+uD1ay+Hef5hegmWd",
      "include_colab_link": true
    },
    "kernelspec": {
      "name": "python3",
      "display_name": "Python 3"
    },
    "language_info": {
      "name": "python"
    }
  },
  "cells": [
    {
      "cell_type": "markdown",
      "metadata": {
        "id": "view-in-github",
        "colab_type": "text"
      },
      "source": [
        "<a href=\"https://colab.research.google.com/github/Jangyunho-2020130902/2022classsspring/blob/main/20220316.ipynb%20.ipynb\" target=\"_parent\"><img src=\"https://colab.research.google.com/assets/colab-badge.svg\" alt=\"Open In Colab\"/></a>"
      ]
    },
    {
      "cell_type": "code",
      "execution_count": 5,
      "metadata": {
        "id": "lAA8jaL3r3Lb",
        "outputId": "fae515de-1c30-47e4-f280-8239ddc8a9f9",
        "colab": {
          "base_uri": "https://localhost:8080/"
        }
      },
      "outputs": [
        {
          "output_type": "stream",
          "name": "stdout",
          "text": [
            "1\n",
            "<class 'int'>\n"
          ]
        }
      ],
      "source": [
        "a=1 \n",
        "print(a)\n",
        "print(type(a))"
      ]
    },
    {
      "cell_type": "markdown",
      "source": [
        "변수는 number 과 string이 있다. a=1은 a의 라는 변수에 1을 넣은 것이다. 이때 a의 타입은 int라 한다. print는 a값을 출력하라는 명령어이다. a의 타입을 출력하려면 \n",
        "print(type(a))라 한다. "
      ],
      "metadata": {
        "id": "vf7_iZeKJlp0"
      }
    },
    {
      "cell_type": "code",
      "source": [
        "a=1.2; print(type(a))"
      ],
      "metadata": {
        "id": "u7EiNpwUsLMV",
        "outputId": "e048cb43-a6b7-4710-f327-5990f838c1cf",
        "colab": {
          "base_uri": "https://localhost:8080/"
        }
      },
      "execution_count": 7,
      "outputs": [
        {
          "output_type": "stream",
          "name": "stdout",
          "text": [
            "<class 'float'>\n"
          ]
        }
      ]
    },
    {
      "cell_type": "markdown",
      "source": [
        "소수 1.2타입은 float라 한다. "
      ],
      "metadata": {
        "id": "sqQY-Jl2KkKw"
      }
    },
    {
      "cell_type": "code",
      "source": [
        "a='hello'; print(type(a))\n",
        "print(a[1]) \n",
        "print(a[:])\n",
        "print(a[1:4])"
      ],
      "metadata": {
        "id": "3Kjy9l8wKj6H",
        "outputId": "d650ca78-4283-4450-813e-bd34b88f84a6",
        "colab": {
          "base_uri": "https://localhost:8080/"
        }
      },
      "execution_count": 15,
      "outputs": [
        {
          "output_type": "stream",
          "name": "stdout",
          "text": [
            "<class 'str'>\n",
            "e\n",
            "hello\n",
            "ell\n"
          ]
        }
      ]
    },
    {
      "cell_type": "markdown",
      "source": [
        "이렇게 일련의 문자로 나열된 것을 string이다. 숫자 배열로 이루어질 수 있다. \n",
        "print(a[1])은 문자열 중에서 1번째로 시작하는 단어이다. 0부터 시작하기에 e가 출력되었다. print(a[:])는 a를 전부 나열하는 것이다. 따라서 hello가 도출되었다\n",
        "print(a[1:4])는 a 문자열에서 1번부터 3번째까지 도출하라는 의미이다. 4는 포함하지 않는다. "
      ],
      "metadata": {
        "id": "OdOWXq1eLKdT"
      }
    },
    {
      "cell_type": "code",
      "source": [
        "a=[1,2,3,4]; print(type(a)) ; print(a[2])"
      ],
      "metadata": {
        "id": "Vmjsjd-lMARx",
        "outputId": "a8234993-97db-40de-cca3-40cba1be9b7c",
        "colab": {
          "base_uri": "https://localhost:8080/"
        }
      },
      "execution_count": 19,
      "outputs": [
        {
          "output_type": "stream",
          "name": "stdout",
          "text": [
            "<class 'list'>\n",
            "3\n"
          ]
        }
      ]
    },
    {
      "cell_type": "markdown",
      "source": [
        "여러 변수들의 나열을 list라 한다. print(a[2])는 list에서 2에 위치한 변수이다. 이 역시 0부터 시작한다. "
      ],
      "metadata": {
        "id": "I7gFX4P2Mjq5"
      }
    },
    {
      "cell_type": "code",
      "source": [
        "a=['apple',1,[2,3]]; print(type(a)); print(a[2])"
      ],
      "metadata": {
        "id": "3XqXoxiJM_AF",
        "outputId": "0a1f38bd-7d7d-4e83-fc24-aefe792a0680",
        "colab": {
          "base_uri": "https://localhost:8080/"
        }
      },
      "execution_count": 21,
      "outputs": [
        {
          "output_type": "stream",
          "name": "stdout",
          "text": [
            "<class 'list'>\n",
            "[2, 3]\n"
          ]
        }
      ]
    },
    {
      "cell_type": "markdown",
      "source": [
        "이렇게 list안에 string과 inst 를 같이 넣어도 작동한다. "
      ],
      "metadata": {
        "id": "eORaYXc1NbqM"
      }
    },
    {
      "cell_type": "code",
      "source": [
        "a=  {\"a\":\"영어영문학과\",\"b\":\"장윤호\"}; print(type(a)); print(a[\"b\"])"
      ],
      "metadata": {
        "id": "4muTvhT9Njr1",
        "outputId": "b6d98ef1-e11c-4b91-fcba-0f0a7757d710",
        "colab": {
          "base_uri": "https://localhost:8080/"
        }
      },
      "execution_count": 30,
      "outputs": [
        {
          "output_type": "stream",
          "name": "stdout",
          "text": [
            "<class 'dict'>\n",
            "장윤호\n"
          ]
        }
      ]
    },
    {
      "cell_type": "markdown",
      "source": [
        "dic는 a의 \"a\"를 영어영문학과로 \"b\"를 장윤호로 정의한다. "
      ],
      "metadata": {
        "id": "9YQhPKh3QDSb"
      }
    }
  ]
}